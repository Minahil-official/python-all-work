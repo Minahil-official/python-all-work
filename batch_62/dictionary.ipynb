{
 "cells": [
  {
   "cell_type": "code",
   "execution_count": 1,
   "metadata": {},
   "outputs": [
    {
     "name": "stdout",
     "output_type": "stream",
     "text": [
      "hello\n"
     ]
    }
   ],
   "source": [
    "print(\"hello\")"
   ]
  },
  {
   "cell_type": "code",
   "execution_count": 1,
   "metadata": {},
   "outputs": [
    {
     "name": "stdout",
     "output_type": "stream",
     "text": [
      "{'a': 'some', 'b': 'change', 'c': 'important', 'd': 'verse'}\n"
     ]
    }
   ],
   "source": [
    "dic1 = {\"a\":\"some\", \"b\":\"change\",\"c\":\"important\",\"d\":\"verse\", }\n",
    "print(dic1)"
   ]
  },
  {
   "cell_type": "code",
   "execution_count": 5,
   "metadata": {},
   "outputs": [
    {
     "name": "stdout",
     "output_type": "stream",
     "text": [
      "verse\n"
     ]
    }
   ],
   "source": [
    "print(dic1[\"d\"])"
   ]
  },
  {
   "cell_type": "code",
   "execution_count": 7,
   "metadata": {},
   "outputs": [
    {
     "name": "stdout",
     "output_type": "stream",
     "text": [
      "{'a': 'some', 'b': 'change', 'c': 'subhanalah', 'd': 'verse'}\n"
     ]
    }
   ],
   "source": [
    "str = (dic1['c']) = \"subhanalah\"\n",
    "print(dic1)\n"
   ]
  },
  {
   "cell_type": "code",
   "execution_count": 9,
   "metadata": {},
   "outputs": [
    {
     "name": "stdout",
     "output_type": "stream",
     "text": [
      "{'a': \"'hassen\", 'b': 'asad', 'c': 'ibad', 'subjects': {'marsks': '94', 'add': '97', 'more': '57'}, 'imp': {'some': 'phy'}}\n",
      "{'marsks': '94', 'add': '97', 'more': '57'}\n"
     ]
    },
    {
     "ename": "IndexError",
     "evalue": "string index out of range",
     "output_type": "error",
     "traceback": [
      "\u001b[1;31m---------------------------------------------------------------------------\u001b[0m",
      "\u001b[1;31mIndexError\u001b[0m                                Traceback (most recent call last)",
      "Cell \u001b[1;32mIn[9], line 5\u001b[0m\n\u001b[0;32m      3\u001b[0m \u001b[38;5;28mprint\u001b[39m(student)\n\u001b[0;32m      4\u001b[0m \u001b[38;5;28mprint\u001b[39m(student[\u001b[38;5;124m'\u001b[39m\u001b[38;5;124msubjects\u001b[39m\u001b[38;5;124m'\u001b[39m])\n\u001b[1;32m----> 5\u001b[0m \u001b[38;5;28mprint\u001b[39m(\u001b[43mstudent\u001b[49m\u001b[43m[\u001b[49m\u001b[38;5;124;43m'\u001b[39;49m\u001b[38;5;124;43msubjects\u001b[39;49m\u001b[38;5;124;43m'\u001b[39;49m\u001b[43m]\u001b[49m\u001b[43m[\u001b[49m\u001b[38;5;124;43m'\u001b[39;49m\u001b[38;5;124;43mmarsks\u001b[39;49m\u001b[38;5;124;43m'\u001b[39;49m\u001b[43m]\u001b[49m\u001b[43m[\u001b[49m\u001b[38;5;241;43m0\u001b[39;49m\u001b[43m]\u001b[49m\u001b[43m[\u001b[49m\u001b[38;5;241;43m1\u001b[39;49m\u001b[43m]\u001b[49m)\n",
      "\u001b[1;31mIndexError\u001b[0m: string index out of range"
     ]
    }
   ],
   "source": [
    "student = {'a':\"'hassen\",'b':\"asad\",'c':\"ibad\",\n",
    "           'subjects':{'marsks':\"94\",\"add\":'97','more':'57',} ,'imp':{'some':'phy',}}\n",
    "print(student)\n",
    "print(student['subjects'])\n",
    "print(student['subjects']['marsks'][0])\n"
   ]
  },
  {
   "cell_type": "code",
   "execution_count": 5,
   "metadata": {},
   "outputs": [
    {
     "name": "stdout",
     "output_type": "stream",
     "text": [
      "{'name': 'minahil nawaz'}\n"
     ]
    }
   ],
   "source": [
    "dict2 = {}\n",
    "dict2['name'] = 'minahil nawaz'\n",
    "print(dict2)"
   ]
  },
  {
   "cell_type": "code",
   "execution_count": 10,
   "metadata": {},
   "outputs": [],
   "source": [
    "students = {'roll no': [102,103,104,],\n",
    "            'names': ['ali','ahmaed','asad',],\n",
    "            'subjects': ['englist','urdu','math']}"
   ]
  },
  {
   "cell_type": "code",
   "execution_count": 11,
   "metadata": {},
   "outputs": [
    {
     "name": "stdout",
     "output_type": "stream",
     "text": [
      "math\n"
     ]
    }
   ],
   "source": [
    "print(students['subjects'][2])"
   ]
  },
  {
   "cell_type": "code",
   "execution_count": 13,
   "metadata": {},
   "outputs": [
    {
     "name": "stdout",
     "output_type": "stream",
     "text": [
      "['roll no', 'names', 'subjects']\n"
     ]
    }
   ],
   "source": [
    "print(list(students.keys()))"
   ]
  },
  {
   "cell_type": "code",
   "execution_count": 14,
   "metadata": {},
   "outputs": [
    {
     "name": "stdout",
     "output_type": "stream",
     "text": [
      "dict_values([[102, 103, 104], ['ali', 'ahmaed', 'asad'], ['englist', 'urdu', 'math']])\n"
     ]
    }
   ],
   "source": [
    "print(students.values())"
   ]
  },
  {
   "cell_type": "code",
   "execution_count": 15,
   "metadata": {},
   "outputs": [
    {
     "name": "stdout",
     "output_type": "stream",
     "text": [
      "dict_items([('roll no', [102, 103, 104]), ('names', ['ali', 'ahmaed', 'asad']), ('subjects', ['englist', 'urdu', 'math'])])\n"
     ]
    }
   ],
   "source": [
    "print(students.items())"
   ]
  },
  {
   "cell_type": "code",
   "execution_count": 16,
   "metadata": {},
   "outputs": [
    {
     "name": "stdout",
     "output_type": "stream",
     "text": [
      "[('roll no', [102, 103, 104]), ('names', ['ali', 'ahmaed', 'asad']), ('subjects', ['englist', 'urdu', 'math'])]\n"
     ]
    }
   ],
   "source": [
    "print(list(students.items()))"
   ]
  },
  {
   "cell_type": "code",
   "execution_count": 18,
   "metadata": {},
   "outputs": [
    {
     "name": "stdout",
     "output_type": "stream",
     "text": [
      "[('roll no', [102, 103, 104]), ('names', ['ali', 'ahmaed', 'asad']), ('subjects', ['englist', 'urdu', 'math'])]\n"
     ]
    },
    {
     "ename": "NameError",
     "evalue": "name 'pairs' is not defined",
     "output_type": "error",
     "traceback": [
      "\u001b[1;31m---------------------------------------------------------------------------\u001b[0m",
      "\u001b[1;31mNameError\u001b[0m                                 Traceback (most recent call last)",
      "Cell \u001b[1;32mIn[18], line 2\u001b[0m\n\u001b[0;32m      1\u001b[0m \u001b[38;5;28mprint\u001b[39m(\u001b[38;5;28mlist\u001b[39m(students\u001b[38;5;241m.\u001b[39mitems()))\n\u001b[1;32m----> 2\u001b[0m \u001b[38;5;28mprint\u001b[39m(\u001b[43mpairs\u001b[49m[\u001b[38;5;241m1\u001b[39m])\n",
      "\u001b[1;31mNameError\u001b[0m: name 'pairs' is not defined"
     ]
    }
   ],
   "source": [
    "print(list(students.items()))\n",
    "print(pairs[1])"
   ]
  },
  {
   "cell_type": "code",
   "execution_count": 20,
   "metadata": {},
   "outputs": [
    {
     "name": "stdout",
     "output_type": "stream",
     "text": [
      "['englist', 'urdu', 'math']\n"
     ]
    }
   ],
   "source": [
    "print(students.get('subjects'))"
   ]
  },
  {
   "cell_type": "code",
   "execution_count": 27,
   "metadata": {},
   "outputs": [
    {
     "name": "stdout",
     "output_type": "stream",
     "text": [
      "['ali', 'ahmaed', 'asad']\n",
      "['ali', 'ahmaed', 'asad']\n"
     ]
    }
   ],
   "source": [
    "print(students['names'])\n",
    "print(students.get('names'))"
   ]
  },
  {
   "cell_type": "code",
   "execution_count": 29,
   "metadata": {},
   "outputs": [
    {
     "name": "stdout",
     "output_type": "stream",
     "text": [
      "None\n"
     ]
    }
   ],
   "source": [
    "# print(students['name1'])\n",
    "print(students.get('name1'))"
   ]
  },
  {
   "cell_type": "code",
   "execution_count": 31,
   "metadata": {},
   "outputs": [
    {
     "name": "stdout",
     "output_type": "stream",
     "text": [
      "None\n",
      "{'roll no': [102, 103, 104], 'names': ['ali', 'ahmaed', 'asad'], 'subjects': ['englist', 'urdu', 'math'], 'city': 'karachi', 'more': 'lahore'}\n"
     ]
    }
   ],
   "source": [
    "new_dict = {'city':'karachi','more':'lahore',}\n",
    "print(students.update(new_dict))\n",
    "print(students)"
   ]
  },
  {
   "cell_type": "code",
   "execution_count": 4,
   "metadata": {},
   "outputs": [
    {
     "name": "stdout",
     "output_type": "stream",
     "text": [
      "{1: 'asad', 2: 'hassen', 3: 'imad', 4: 'babar'}\n",
      "{2: 'hassen', 3: 'imad', 4: 'babar'}\n"
     ]
    }
   ],
   "source": [
    "students = {1:'asad',2:\"hassen\",3:'imad',4:\"babar\",}\n",
    "print(students)\n",
    "del(students[1])\n",
    "print(students)"
   ]
  },
  {
   "cell_type": "code",
   "execution_count": 5,
   "metadata": {},
   "outputs": [
    {
     "name": "stdout",
     "output_type": "stream",
     "text": [
      "{}\n"
     ]
    }
   ],
   "source": [
    "students.clear()\n",
    "print(students)"
   ]
  },
  {
   "cell_type": "code",
   "execution_count": 6,
   "metadata": {},
   "outputs": [
    {
     "ename": "SyntaxError",
     "evalue": "invalid syntax. Perhaps you forgot a comma? (4166103659.py, line 1)",
     "output_type": "error",
     "traceback": [
      "\u001b[1;36m  Cell \u001b[1;32mIn[6], line 1\u001b[1;36m\u001b[0m\n\u001b[1;33m    question = {1:'eng ,2:'urdu ,3:'math',}\u001b[0m\n\u001b[1;37m                  ^\u001b[0m\n\u001b[1;31mSyntaxError\u001b[0m\u001b[1;31m:\u001b[0m invalid syntax. Perhaps you forgot a comma?\n"
     ]
    }
   ],
   "source": [
    "question = {1:'eng ,2:'urdu ,3:'math',}"
   ]
  },
  {
   "cell_type": "code",
   "execution_count": 10,
   "metadata": {},
   "outputs": [
    {
     "name": "stdout",
     "output_type": "stream",
     "text": [
      "{}\n"
     ]
    }
   ],
   "source": [
    "dic = {1:'geeks',2:'for',3:'geeks'}\n",
    "dic.copy()\n",
    "dic.clear()\n",
    "print(dic)\n"
   ]
  },
  {
   "cell_type": "code",
   "execution_count": 29,
   "metadata": {},
   "outputs": [
    {
     "name": "stdout",
     "output_type": "stream",
     "text": [
      "{'a': 'Allah', 'b': 'Allah', 'c': 'Allah'}\n"
     ]
    }
   ],
   "source": [
    "# Use dict instead of dic1 and ensure you're printing dic2\n",
    "dict = dic.fromkeys(('a','b','c'),'Allah')\n",
    "print(dict)"
   ]
  },
  {
   "cell_type": "code",
   "execution_count": 18,
   "metadata": {},
   "outputs": [
    {
     "name": "stdout",
     "output_type": "stream",
     "text": [
      "{'a': 'Allah', 'b': 'Allah', 'c': 'Allah'}\n"
     ]
    }
   ],
   "source": [
    "# Use dict instead of dic1 and ensure you're printing dic2\n",
    "dic2 = dict.fromkeys(('a', 'b', 'c'), 'Allah')\n",
    "print(dic2)\n"
   ]
  },
  {
   "cell_type": "code",
   "execution_count": 34,
   "metadata": {},
   "outputs": [
    {
     "ename": "KeyError",
     "evalue": "'a'",
     "output_type": "error",
     "traceback": [
      "\u001b[1;31m---------------------------------------------------------------------------\u001b[0m",
      "\u001b[1;31mKeyError\u001b[0m                                  Traceback (most recent call last)",
      "Cell \u001b[1;32mIn[34], line 2\u001b[0m\n\u001b[0;32m      1\u001b[0m dictionary \u001b[38;5;241m=\u001b[39m {}\n\u001b[1;32m----> 2\u001b[0m \u001b[43mdic\u001b[49m\u001b[43m[\u001b[49m\u001b[38;5;124;43m'\u001b[39;49m\u001b[38;5;124;43ma\u001b[39;49m\u001b[38;5;124;43m'\u001b[39;49m\u001b[43m]\u001b[49m(\u001b[38;5;124m'\u001b[39m\u001b[38;5;124menter your element\u001b[39m\u001b[38;5;124m'\u001b[39m)\n\u001b[0;32m      3\u001b[0m dic[\u001b[38;5;124m'\u001b[39m\u001b[38;5;124mbeta\u001b[39m\u001b[38;5;124m'\u001b[39m](\u001b[38;5;124m'\u001b[39m\u001b[38;5;124menter your element\u001b[39m\u001b[38;5;124m'\u001b[39m)\n\u001b[0;32m      4\u001b[0m dic[\u001b[38;5;124m'\u001b[39m\u001b[38;5;124mcharli\u001b[39m\u001b[38;5;124m'\u001b[39m](\u001b[38;5;124m'\u001b[39m\u001b[38;5;124menter your element\u001b[39m\u001b[38;5;124m'\u001b[39m)\n",
      "\u001b[1;31mKeyError\u001b[0m: 'a'"
     ]
    }
   ],
   "source": [
    "dictionary = {}\n",
    "dic['a']('enter your element')\n",
    "dic['beta']('enter your element')\n",
    "dic['charli']('enter your element')\n",
    "print(dictionary)\n",
    "\n"
   ]
  },
  {
   "cell_type": "code",
   "execution_count": 36,
   "metadata": {},
   "outputs": [
    {
     "name": "stdout",
     "output_type": "stream",
     "text": [
      "{1: 'asad', 2: 'hassen', 3: 'imad', 4: 'babar', 'ali': 'ahmed'}\n"
     ]
    }
   ],
   "source": [
    "students = {1:'asad',2:\"hassen\",3:'imad',4:\"babar\",}\n",
    "name = students.setdefault ('ali','ahmed') \n",
    "print(students)\n"
   ]
  },
  {
   "cell_type": "code",
   "execution_count": 39,
   "metadata": {},
   "outputs": [
    {
     "name": "stdout",
     "output_type": "stream",
     "text": [
      "{1: 'asad', 2: 'hassen', 3: 'imad', 4: 'babar', 'ali': 'ahmed'}\n"
     ]
    }
   ],
   "source": [
    "name = students.setdefault(2,'ahsan')\n",
    "print(students)"
   ]
  }
 ],
 "metadata": {
  "kernelspec": {
   "display_name": "Python 3",
   "language": "python",
   "name": "python3"
  },
  "language_info": {
   "codemirror_mode": {
    "name": "ipython",
    "version": 3
   },
   "file_extension": ".py",
   "mimetype": "text/x-python",
   "name": "python",
   "nbconvert_exporter": "python",
   "pygments_lexer": "ipython3",
   "version": "3.12.5"
  }
 },
 "nbformat": 4,
 "nbformat_minor": 2
}
