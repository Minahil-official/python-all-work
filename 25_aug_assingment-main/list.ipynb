{
 "cells": [
  {
   "cell_type": "code",
   "execution_count": 61,
   "metadata": {},
   "outputs": [
    {
     "name": "stdout",
     "output_type": "stream",
     "text": [
      "['mango', 'orange', 'cherry']\n"
     ]
    }
   ],
   "source": [
    "fruits: list = ['mango','orange','cherry',]\n",
    "print(fruits)"
   ]
  },
  {
   "cell_type": "code",
   "execution_count": 62,
   "metadata": {},
   "outputs": [
    {
     "name": "stdout",
     "output_type": "stream",
     "text": [
      "mango\n"
     ]
    }
   ],
   "source": [
    "fruits: list = ['mango','orange','cherry',]\n",
    "print(fruits[0])"
   ]
  },
  {
   "cell_type": "code",
   "execution_count": 63,
   "metadata": {},
   "outputs": [
    {
     "name": "stdout",
     "output_type": "stream",
     "text": [
      "Orange\n"
     ]
    }
   ],
   "source": [
    "fruits: list = ['mango','orange','cherry',]\n",
    "print(fruits[1].title())"
   ]
  },
  {
   "cell_type": "code",
   "execution_count": 64,
   "metadata": {},
   "outputs": [
    {
     "name": "stdout",
     "output_type": "stream",
     "text": [
      "cherry\n"
     ]
    }
   ],
   "source": [
    "fruits: list = ['mango','orange','cherry',]\n",
    "print(fruits[-1])"
   ]
  },
  {
   "cell_type": "code",
   "execution_count": 65,
   "metadata": {},
   "outputs": [
    {
     "name": "stdout",
     "output_type": "stream",
     "text": [
      "(l loveMango)\n"
     ]
    }
   ],
   "source": [
    "fruits: list = ['mango','orange','cherry',]\n",
    "print(f\"(l love{fruits[0].title()})\")"
   ]
  },
  {
   "cell_type": "code",
   "execution_count": 66,
   "metadata": {},
   "outputs": [
    {
     "name": "stdout",
     "output_type": "stream",
     "text": [
      "['mango', 'orange', 'cherry']\n",
      "['mango', 'kivi', 'cherry']\n"
     ]
    }
   ],
   "source": [
    "fruits: list = ['mango','orange','cherry',]\n",
    "print(fruits)\n",
    "fruits[1] = \"kivi\"\n",
    "print(fruits)"
   ]
  },
  {
   "cell_type": "code",
   "execution_count": 67,
   "metadata": {},
   "outputs": [
    {
     "name": "stdout",
     "output_type": "stream",
     "text": [
      "['mango', 'orange', 'cherry']\n",
      "['mango', 'orange', 'cherry', 'lichi']\n"
     ]
    }
   ],
   "source": [
    "fruits: list = ['mango','orange','cherry',]\n",
    "print(fruits)\n",
    "fruits.append(\"lichi\")\n",
    "print(fruits)"
   ]
  },
  {
   "cell_type": "code",
   "execution_count": 68,
   "metadata": {},
   "outputs": [
    {
     "name": "stdout",
     "output_type": "stream",
     "text": [
      "['malon', 'mango', 'orange', 'cherry']\n"
     ]
    }
   ],
   "source": [
    "fruits: list = ['mango','orange','cherry',]\n",
    "fruits.insert(0,\"malon\")\n",
    "print(fruits)"
   ]
  },
  {
   "cell_type": "code",
   "execution_count": 69,
   "metadata": {},
   "outputs": [
    {
     "name": "stdout",
     "output_type": "stream",
     "text": [
      "['orange', 'cherry']\n"
     ]
    }
   ],
   "source": [
    "fruits: list = ['mango','orange','cherry',]\n",
    "del fruits[0]\n",
    "print(fruits)"
   ]
  },
  {
   "cell_type": "code",
   "execution_count": 70,
   "metadata": {},
   "outputs": [],
   "source": [
    "# ['malon', 'mango', 'orange', 'cherry']\n",
    "# poped_fruits = fruits.pop()\n",
    "# print(fruits)"
   ]
  },
  {
   "cell_type": "code",
   "execution_count": 71,
   "metadata": {},
   "outputs": [
    {
     "name": "stdout",
     "output_type": "stream",
     "text": [
      "['apple', 'pear']\n"
     ]
    }
   ],
   "source": [
    "new_list: list = ['apple','pear','graps',]\n",
    "new_list.pop()\n",
    "print(new_list)"
   ]
  },
  {
   "cell_type": "code",
   "execution_count": 72,
   "metadata": {},
   "outputs": [
    {
     "name": "stdout",
     "output_type": "stream",
     "text": [
      "(i don't have Apple)\n"
     ]
    }
   ],
   "source": [
    "new_fruits = new_list.pop(0)\n",
    "print(f\"(i don't have {new_fruits.title()})\")"
   ]
  },
  {
   "cell_type": "code",
   "execution_count": 73,
   "metadata": {},
   "outputs": [
    {
     "name": "stdout",
     "output_type": "stream",
     "text": [
      "['pear', 'graps']\n"
     ]
    }
   ],
   "source": [
    "new_list: list = ['apple','pear','graps',]\n",
    "new_list.remove(\"apple\")\n",
    "print(new_list)"
   ]
  },
  {
   "cell_type": "code",
   "execution_count": 74,
   "metadata": {},
   "outputs": [
    {
     "name": "stdout",
     "output_type": "stream",
     "text": [
      "['apple', 'pear', 'graps']\n",
      "['pear', 'graps']\n",
      "\n",
      "Apple is not eatable\n"
     ]
    }
   ],
   "source": [
    "new_list: list = ['apple','pear','graps',]\n",
    "print(new_list)\n",
    "sour = \"apple\"\n",
    "new_list.remove(sour)\n",
    "print(new_list)\n",
    "print(f\"\\n{sour.title()} is not eatable\")"
   ]
  },
  {
   "cell_type": "code",
   "execution_count": 75,
   "metadata": {},
   "outputs": [
    {
     "name": "stdout",
     "output_type": "stream",
     "text": [
      "['bmw', 'civic', 'gli', 'mehran', 'toyota']\n"
     ]
    }
   ],
   "source": [
    "cars: list = ['bmw','toyota','civic','gli','mehran',]\n",
    "cars.sort()\n",
    "print(cars)\n"
   ]
  },
  {
   "cell_type": "code",
   "execution_count": 76,
   "metadata": {},
   "outputs": [
    {
     "name": "stdout",
     "output_type": "stream",
     "text": [
      "['toyota', 'mehran', 'gli', 'civic', 'bmw']\n"
     ]
    }
   ],
   "source": [
    "cars: list = ['bmw','toyota','civic','gli','mehran',]\n",
    "cars.sort(reverse=True)\n",
    "print(cars)"
   ]
  },
  {
   "cell_type": "code",
   "execution_count": 77,
   "metadata": {},
   "outputs": [
    {
     "name": "stdout",
     "output_type": "stream",
     "text": [
      "here is the orignal\n",
      "['bmw', 'toyota', 'civic', 'gli', 'mehran']\n",
      "\n",
      "here is sorted list:\n",
      "['bmw', 'civic', 'gli', 'mehran', 'toyota']\n",
      "\n",
      " here is the original list\n",
      "['bmw', 'toyota', 'civic', 'gli', 'mehran']\n"
     ]
    }
   ],
   "source": [
    "cars: list = ['bmw','toyota','civic','gli','mehran',]\n",
    "print(\"here is the orignal\")\n",
    "print(cars)\n",
    "print(\"\\nhere is sorted list:\")\n",
    "print(sorted(cars))\n",
    "print(\"\\n here is the original list\")\n",
    "print(cars)"
   ]
  },
  {
   "cell_type": "code",
   "execution_count": 78,
   "metadata": {},
   "outputs": [
    {
     "name": "stdout",
     "output_type": "stream",
     "text": [
      "['bmw', 'toyota', 'civic', 'gli', 'mehran']\n",
      "['mehran', 'gli', 'civic', 'toyota', 'bmw']\n"
     ]
    }
   ],
   "source": [
    "cars: list = ['bmw','toyota','civic','gli','mehran',]\n",
    "print(cars)\n",
    "cars.reverse()\n",
    "print(cars)"
   ]
  },
  {
   "cell_type": "code",
   "execution_count": 79,
   "metadata": {},
   "outputs": [
    {
     "data": {
      "text/plain": [
       "5"
      ]
     },
     "execution_count": 79,
     "metadata": {},
     "output_type": "execute_result"
    }
   ],
   "source": [
    "cars: list = ['bmw','toyota','civic','gli','mehran',]\n",
    "len(cars)\n"
   ]
  },
  {
   "cell_type": "code",
   "execution_count": 80,
   "metadata": {},
   "outputs": [
    {
     "ename": "IndexError",
     "evalue": "list index out of range",
     "output_type": "error",
     "traceback": [
      "\u001b[1;31m---------------------------------------------------------------------------\u001b[0m",
      "\u001b[1;31mIndexError\u001b[0m                                Traceback (most recent call last)",
      "Cell \u001b[1;32mIn[80], line 2\u001b[0m\n\u001b[0;32m      1\u001b[0m cars: \u001b[38;5;28mlist\u001b[39m \u001b[38;5;241m=\u001b[39m [\u001b[38;5;124m'\u001b[39m\u001b[38;5;124mbmw\u001b[39m\u001b[38;5;124m'\u001b[39m,\u001b[38;5;124m'\u001b[39m\u001b[38;5;124mtoyota\u001b[39m\u001b[38;5;124m'\u001b[39m,\u001b[38;5;124m'\u001b[39m\u001b[38;5;124mcivic\u001b[39m\u001b[38;5;124m'\u001b[39m,\u001b[38;5;124m'\u001b[39m\u001b[38;5;124mgli\u001b[39m\u001b[38;5;124m'\u001b[39m,\u001b[38;5;124m'\u001b[39m\u001b[38;5;124mmehran\u001b[39m\u001b[38;5;124m'\u001b[39m,]\n\u001b[1;32m----> 2\u001b[0m \u001b[38;5;28mprint\u001b[39m(\u001b[43mcars\u001b[49m\u001b[43m[\u001b[49m\u001b[38;5;241;43m7\u001b[39;49m\u001b[43m]\u001b[49m)\n",
      "\u001b[1;31mIndexError\u001b[0m: list index out of range"
     ]
    }
   ],
   "source": [
    "cars: list = ['bmw','toyota','civic','gli','mehran',]\n",
    "print(cars[7])"
   ]
  },
  {
   "cell_type": "code",
   "execution_count": null,
   "metadata": {},
   "outputs": [
    {
     "ename": "IndexError",
     "evalue": "list index out of range",
     "output_type": "error",
     "traceback": [
      "\u001b[1;31m---------------------------------------------------------------------------\u001b[0m",
      "\u001b[1;31mIndexError\u001b[0m                                Traceback (most recent call last)",
      "Cell \u001b[1;32mIn[55], line 2\u001b[0m\n\u001b[0;32m      1\u001b[0m cars: \u001b[38;5;28mlist\u001b[39m \u001b[38;5;241m=\u001b[39m [\u001b[38;5;124m'\u001b[39m\u001b[38;5;124mbmw\u001b[39m\u001b[38;5;124m'\u001b[39m,\u001b[38;5;124m'\u001b[39m\u001b[38;5;124mtoyota\u001b[39m\u001b[38;5;124m'\u001b[39m,\u001b[38;5;124m'\u001b[39m\u001b[38;5;124mcivic\u001b[39m\u001b[38;5;124m'\u001b[39m,\u001b[38;5;124m'\u001b[39m\u001b[38;5;124mgli\u001b[39m\u001b[38;5;124m'\u001b[39m,\u001b[38;5;124m'\u001b[39m\u001b[38;5;124mmehran\u001b[39m\u001b[38;5;124m'\u001b[39m,]\n\u001b[1;32m----> 2\u001b[0m \u001b[38;5;28mprint\u001b[39m(\u001b[43mcars\u001b[49m\u001b[43m[\u001b[49m\u001b[38;5;241;43m-\u001b[39;49m\u001b[38;5;241;43m6\u001b[39;49m\u001b[43m]\u001b[49m)\n",
      "\u001b[1;31mIndexError\u001b[0m: list index out of range"
     ]
    }
   ],
   "source": [
    "cars: list = ['bmw','toyota','civic','gli','mehran',]\n",
    "print(cars[-6])"
   ]
  },
  {
   "cell_type": "code",
   "execution_count": null,
   "metadata": {},
   "outputs": [
    {
     "name": "stdout",
     "output_type": "stream",
     "text": [
      "bmw\n",
      "toyota\n",
      "civic\n",
      "gli\n",
      "mehran\n"
     ]
    }
   ],
   "source": [
    "cars: list = ['bmw','toyota','civic','gli','mehran',]\n",
    "for cars in cars:\n",
    "    print(cars)"
   ]
  },
  {
   "cell_type": "code",
   "execution_count": null,
   "metadata": {},
   "outputs": [
    {
     "name": "stdout",
     "output_type": "stream",
     "text": [
      "bmw\n",
      "honda\n",
      "toyota\n",
      "honda\n",
      "civic\n",
      "honda\n",
      "gli\n",
      "honda\n",
      "mehran\n",
      "honda\n"
     ]
    }
   ],
   "source": [
    "cars: list = ['bmw','toyota','civic','gli','mehran',]\n",
    "for cars in cars:\n",
    "    print(cars)\n",
    "    print('honda')"
   ]
  },
  {
   "cell_type": "code",
   "execution_count": null,
   "metadata": {},
   "outputs": [
    {
     "name": "stdout",
     "output_type": "stream",
     "text": [
      "bmw, is my favourite .\n",
      "toyota, is my favourite .\n",
      "civic, is my favourite .\n",
      "gli, is my favourite .\n",
      "mehran, is my favourite .\n"
     ]
    }
   ],
   "source": [
    "cars: list = ['bmw','toyota','civic','gli','mehran',]\n",
    "for cars in cars:\n",
    "    print(f\"{cars}, is my favourite .\")"
   ]
  },
  {
   "cell_type": "code",
   "execution_count": null,
   "metadata": {},
   "outputs": [
    {
     "name": "stdout",
     "output_type": "stream",
     "text": [
      "i want to drive a bmw\n",
      "i want to drive a toyota\n",
      "i want to drive a civic\n",
      "i want to drive a gli\n",
      "i want to drive a mehran\n"
     ]
    }
   ],
   "source": [
    "cars: list = ['bmw','toyota','civic','gli','mehran',]\n",
    "for cars in cars:\n",
    "    print(f\"i want to drive a {cars}\")"
   ]
  },
  {
   "cell_type": "code",
   "execution_count": null,
   "metadata": {},
   "outputs": [
    {
     "name": "stdout",
     "output_type": "stream",
     "text": [
      "1\n",
      "2\n",
      "3\n",
      "4\n"
     ]
    }
   ],
   "source": [
    "for value in range(1,5):\n",
    "    print(value)"
   ]
  },
  {
   "cell_type": "code",
   "execution_count": null,
   "metadata": {},
   "outputs": [
    {
     "name": "stdout",
     "output_type": "stream",
     "text": [
      "1\n",
      "2\n",
      "3\n",
      "4\n",
      "5\n",
      "6\n",
      "7\n"
     ]
    }
   ],
   "source": [
    "for value in range(1,8):\n",
    "    print(value)"
   ]
  },
  {
   "cell_type": "code",
   "execution_count": null,
   "metadata": {},
   "outputs": [
    {
     "name": "stdout",
     "output_type": "stream",
     "text": [
      "[1, 2, 3, 4, 5]\n"
     ]
    }
   ],
   "source": [
    "num = list(range(1,6))\n",
    "print(num)"
   ]
  },
  {
   "cell_type": "code",
   "execution_count": null,
   "metadata": {},
   "outputs": [
    {
     "name": "stdout",
     "output_type": "stream",
     "text": [
      "[2, 4, 6, 8, 10, 12, 14, 16, 18, 20]\n"
     ]
    }
   ],
   "source": [
    "numbers = list(range(2,21,2))\n",
    "print(numbers)"
   ]
  },
  {
   "cell_type": "code",
   "execution_count": null,
   "metadata": {},
   "outputs": [],
   "source": [
    "for value in range(10,2):\n",
    "    print(value)\n"
   ]
  },
  {
   "cell_type": "code",
   "execution_count": null,
   "metadata": {},
   "outputs": [
    {
     "name": "stdout",
     "output_type": "stream",
     "text": [
      "i  love to drive bmw \n"
     ]
    }
   ],
   "source": [
    "cars: list = ['bmw','toyota','civic','gli','mehran',]\n",
    "message = f\"i  love to drive {cars[0]} \"\n",
    "print(message)"
   ]
  },
  {
   "cell_type": "code",
   "execution_count": null,
   "metadata": {},
   "outputs": [
    {
     "name": "stdout",
     "output_type": "stream",
     "text": [
      "['honda', 'cd70', 'yamaha']\n"
     ]
    }
   ],
   "source": [
    "bikes = []\n",
    "\n",
    "bikes.append('honda')\n",
    "bikes.append('cd70')\n",
    "bikes.append('yamaha')\n",
    "print(bikes)"
   ]
  },
  {
   "cell_type": "code",
   "execution_count": null,
   "metadata": {},
   "outputs": [
    {
     "name": "stdout",
     "output_type": "stream",
     "text": [
      "['bmw', 'toyota', 'civic', 'gli']\n",
      "mehran\n"
     ]
    }
   ],
   "source": [
    "cars: list = ['bmw','toyota','civic','gli','mehran',]\n",
    "poped_element = cars.pop()\n",
    "print(cars)\n",
    "print(poped_element)"
   ]
  },
  {
   "cell_type": "code",
   "execution_count": null,
   "metadata": {},
   "outputs": [
    {
     "name": "stdout",
     "output_type": "stream",
     "text": [
      "i last use civic\n",
      "['bmw', 'toyota']\n"
     ]
    }
   ],
   "source": [
    "last_used = cars.pop()\n",
    "print(f\"i last use {last_used}\")\n",
    "print(cars)"
   ]
  },
  {
   "cell_type": "code",
   "execution_count": null,
   "metadata": {},
   "outputs": [
    {
     "name": "stdout",
     "output_type": "stream",
     "text": [
      "['uzair', 'babar', 'amir']\n"
     ]
    }
   ],
   "source": [
    "names: list = ['uzair','babar','amir',]\n",
    "print(names)"
   ]
  },
  {
   "cell_type": "code",
   "execution_count": null,
   "metadata": {},
   "outputs": [
    {
     "name": "stdout",
     "output_type": "stream",
     "text": [
      "babar\n"
     ]
    }
   ],
   "source": [
    "names: list = ['uzair','babar','amir',]\n",
    "print(names[1])\n"
   ]
  },
  {
   "cell_type": "code",
   "execution_count": null,
   "metadata": {},
   "outputs": [
    {
     "name": "stdout",
     "output_type": "stream",
     "text": [
      "Uzair\n"
     ]
    }
   ],
   "source": [
    "print(names[0].title())"
   ]
  },
  {
   "cell_type": "code",
   "execution_count": null,
   "metadata": {},
   "outputs": [
    {
     "name": "stdout",
     "output_type": "stream",
     "text": [
      "amir\n"
     ]
    }
   ],
   "source": [
    "print(names[-1])"
   ]
  },
  {
   "cell_type": "code",
   "execution_count": null,
   "metadata": {},
   "outputs": [
    {
     "name": "stdout",
     "output_type": "stream",
     "text": [
      "how are youuzair\n"
     ]
    }
   ],
   "source": [
    "message:str= (f\"how are you{names[0]}\")\n",
    "print(message)"
   ]
  },
  {
   "cell_type": "code",
   "execution_count": null,
   "metadata": {},
   "outputs": [
    {
     "name": "stdout",
     "output_type": "stream",
     "text": [
      "['uzair', 'babar', 'amir']\n",
      "['nawaz', 'babar', 'amir']\n"
     ]
    }
   ],
   "source": [
    "names: list = ['uzair','babar','amir',]\n",
    "print(names)\n",
    "names[0]: str =  \"nawaz\"\n",
    "print(names)\n"
   ]
  },
  {
   "cell_type": "code",
   "execution_count": null,
   "metadata": {},
   "outputs": [
    {
     "name": "stdout",
     "output_type": "stream",
     "text": [
      "['nawaz', 'babar', 'amir', 'hassen']\n"
     ]
    }
   ],
   "source": [
    "names.append('hassen')\n",
    "print(names)"
   ]
  },
  {
   "cell_type": "code",
   "execution_count": null,
   "metadata": {},
   "outputs": [
    {
     "name": "stdout",
     "output_type": "stream",
     "text": [
      "['honda', 'yamaha']\n"
     ]
    }
   ],
   "source": [
    "bikes: list = []\n",
    "bikes.append('honda')\n",
    "bikes.append('yamaha')\n",
    "print(bikes)"
   ]
  },
  {
   "cell_type": "code",
   "execution_count": 83,
   "metadata": {},
   "outputs": [
    {
     "name": "stdout",
     "output_type": "stream",
     "text": [
      "['uzair', 'asad', 'babar', 'amir']\n"
     ]
    }
   ],
   "source": [
    "names: list = ['uzair','babar','amir',]\n",
    "names.insert(1,'asad')\n",
    "print(names)\n"
   ]
  },
  {
   "cell_type": "code",
   "execution_count": null,
   "metadata": {},
   "outputs": [
    {
     "name": "stdout",
     "output_type": "stream",
     "text": [
      "['uzair', 'asad', 'babar', 'amir']\n",
      "['uzair', 'asad', 'amir']\n"
     ]
    }
   ],
   "source": [
    "print(names)\n",
    "del names[2]\n",
    "print(names)"
   ]
  },
  {
   "cell_type": "code",
   "execution_count": 84,
   "metadata": {},
   "outputs": [
    {
     "data": {
      "text/plain": [
       "['uzair', 'asad', 'babar', 'amir']"
      ]
     },
     "execution_count": 84,
     "metadata": {},
     "output_type": "execute_result"
    }
   ],
   "source": [
    "names"
   ]
  },
  {
   "cell_type": "markdown",
   "metadata": {},
   "source": []
  },
  {
   "cell_type": "code",
   "execution_count": null,
   "metadata": {},
   "outputs": [
    {
     "name": "stdout",
     "output_type": "stream",
     "text": [
      "amir\n"
     ]
    }
   ],
   "source": [
    "poped_name = names.pop()\n",
    "print(poped_name)"
   ]
  },
  {
   "cell_type": "code",
   "execution_count": 86,
   "metadata": {},
   "outputs": [
    {
     "name": "stdout",
     "output_type": "stream",
     "text": [
      "i want to removebabar\n"
     ]
    }
   ],
   "source": [
    "first_name = names.pop(1)\n",
    "print(f\"i want to remove{first_name}\")"
   ]
  },
  {
   "cell_type": "code",
   "execution_count": 87,
   "metadata": {},
   "outputs": [
    {
     "name": "stdout",
     "output_type": "stream",
     "text": [
      "['cherry', 'apple', 'orange']\n",
      "['cherry', 'apple']\n"
     ]
    }
   ],
   "source": [
    "new_fruits: list = ['cherry','apple','orange',]\n",
    "print(new_fruits)\n",
    "new_fruits.remove('orange')\n",
    "print(new_fruits)"
   ]
  },
  {
   "cell_type": "code",
   "execution_count": 90,
   "metadata": {},
   "outputs": [
    {
     "ename": "ValueError",
     "evalue": "list.remove(x): x not in list",
     "output_type": "error",
     "traceback": [
      "\u001b[1;31m---------------------------------------------------------------------------\u001b[0m",
      "\u001b[1;31mValueError\u001b[0m                                Traceback (most recent call last)",
      "Cell \u001b[1;32mIn[90], line 1\u001b[0m\n\u001b[1;32m----> 1\u001b[0m \u001b[43mnew_fruits\u001b[49m\u001b[38;5;241;43m.\u001b[39;49m\u001b[43mremove\u001b[49m\u001b[43m(\u001b[49m\u001b[38;5;124;43m'\u001b[39;49m\u001b[38;5;124;43morange\u001b[39;49m\u001b[38;5;124;43m'\u001b[39;49m\u001b[43m)\u001b[49m\n\u001b[0;32m      2\u001b[0m \u001b[38;5;28mprint\u001b[39m(new_fruits)\n\u001b[0;32m      3\u001b[0m \u001b[38;5;28mprint\u001b[39m(\u001b[38;5;124mf\u001b[39m\u001b[38;5;124m\"\u001b[39m\u001b[38;5;130;01m\\n\u001b[39;00m\u001b[38;5;124mtoo_sour is not eatable\u001b[39m\u001b[38;5;124m\"\u001b[39m)\n",
      "\u001b[1;31mValueError\u001b[0m: list.remove(x): x not in list"
     ]
    }
   ],
   "source": [
    "\n",
    "new_fruits.remove('orange')\n",
    "print(new_fruits)\n",
    "print(\\ntoo_sour is not eatable\")"
   ]
  },
  {
   "cell_type": "code",
   "execution_count": 91,
   "metadata": {},
   "outputs": [
    {
     "name": "stdout",
     "output_type": "stream",
     "text": [
      "['honda', 'yamaha', 'suzuki', 'ducati']\n",
      "['honda', 'yamaha', 'suzuki']\n",
      "\n",
      "A Ducati is too expensive for me.\n"
     ]
    }
   ],
   "source": [
    "motorcycles = ['honda', 'yamaha', 'suzuki', 'ducati']\n",
    "print(motorcycles)\n",
    "too_expensive = 'ducati'\n",
    "motorcycles.remove(too_expensive)\n",
    "print(motorcycles)\n",
    "print(f\"\\nA {too_expensive.title()} is too expensive for me.\")"
   ]
  },
  {
   "cell_type": "code",
   "execution_count": 92,
   "metadata": {},
   "outputs": [
    {
     "name": "stdout",
     "output_type": "stream",
     "text": [
      "['ducati', 'honda', 'suzuki', 'yamaha']\n"
     ]
    }
   ],
   "source": [
    "motorcycles = ['honda', 'yamaha', 'suzuki', 'ducati']\n",
    "motorcycles.sort()\n",
    "print(motorcycles)"
   ]
  },
  {
   "cell_type": "code",
   "execution_count": 94,
   "metadata": {},
   "outputs": [
    {
     "name": "stdout",
     "output_type": "stream",
     "text": [
      "['yamaha', 'suzuki', 'honda', 'ducati']\n"
     ]
    }
   ],
   "source": [
    "motorcycles.sort(reverse=True)\n",
    "print(motorcycles)"
   ]
  }
 ],
 "metadata": {
  "kernelspec": {
   "display_name": "Python 3",
   "language": "python",
   "name": "python3"
  },
  "language_info": {
   "codemirror_mode": {
    "name": "ipython",
    "version": 3
   },
   "file_extension": ".py",
   "mimetype": "text/x-python",
   "name": "python",
   "nbconvert_exporter": "python",
   "pygments_lexer": "ipython3",
   "version": "3.12.4"
  }
 },
 "nbformat": 4,
 "nbformat_minor": 2
}
