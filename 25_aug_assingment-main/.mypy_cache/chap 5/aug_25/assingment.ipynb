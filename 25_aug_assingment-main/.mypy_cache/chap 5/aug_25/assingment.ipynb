{
 "cells": [
  {
   "cell_type": "code",
   "execution_count": 4,
   "metadata": {},
   "outputs": [
    {
     "name": "stdout",
     "output_type": "stream",
     "text": [
      "nawaz how are you doing today\n"
     ]
    }
   ],
   "source": [
    "name = str(input(\"enter your name\"))\n",
    "print(name,\"how are you doing today\")"
   ]
  },
  {
   "cell_type": "code",
   "execution_count": 5,
   "metadata": {},
   "outputs": [
    {
     "name": "stdout",
     "output_type": "stream",
     "text": [
      "[4, 6, 7]\n"
     ]
    }
   ],
   "source": [
    "list = []\n",
    "for i in range(1,4):\n",
    "    num = int(input(f\"enter you {i} favourite number:\"))\n",
    "    list.append(num)\n",
    "    \n",
    "print(list)"
   ]
  },
  {
   "cell_type": "code",
   "execution_count": 21,
   "metadata": {},
   "outputs": [
    {
     "name": "stdout",
     "output_type": "stream",
     "text": [
      "the number 4 is even\n",
      "the number 6 is even\n",
      "the number7is odd\n"
     ]
    }
   ],
   "source": [
    "for num in list:\n",
    "    if num % 2 == 0:\n",
    "        print(f\"the number {num} is even\")\n",
    "    else:\n",
    "        print(f\"the number{num}is odd\")"
   ]
  },
  {
   "cell_type": "code",
   "execution_count": 6,
   "metadata": {},
   "outputs": [
    {
     "name": "stdout",
     "output_type": "stream",
     "text": [
      "here is the number and its square is (4, 16)\n",
      "here is the number and its square is (6, 36)\n",
      "here is the number and its square is (7, 49)\n"
     ]
    }
   ],
   "source": [
    "tu = tuple(list)\n",
    "for num in list:\n",
    "   print(\"here is the number and its square is\",(num,num**2))\n",
    "   "
   ]
  },
  {
   "cell_type": "code",
   "execution_count": 20,
   "metadata": {},
   "outputs": [
    {
     "name": "stdout",
     "output_type": "stream",
     "text": [
      "here is the sum of your favourite numbers 17\n"
     ]
    }
   ],
   "source": [
    "total = 0\n",
    "for num in list:\n",
    "   total = total + num  \n",
    "print(f\"here is the sum of your favourite numbers\",total)"
   ]
  },
  {
   "cell_type": "code",
   "execution_count": 33,
   "metadata": {},
   "outputs": [
    {
     "name": "stdout",
     "output_type": "stream",
     "text": [
      "17 is a prime number\n"
     ]
    }
   ],
   "source": [
    "i = 2\n",
    "if total <= 1:\n",
    "    print(f\"{total} is not a prime number\")\n",
    "    if total == 2:\n",
    "        print(f\"{total} is a prime number\")\n",
    "        for i in range(2,total):\n",
    "           if total % i == 0:\n",
    "               print(f\"{total} is a prime number\")\n",
    "           else:\n",
    "               print(f\"{total} is not a prime number\")\n",
    "total = 17\n",
    "is_prime(total)"
   ]
  }
 ],
 "metadata": {
  "kernelspec": {
   "display_name": "Python 3",
   "language": "python",
   "name": "python3"
  },
  "language_info": {
   "codemirror_mode": {
    "name": "ipython",
    "version": 3
   },
   "file_extension": ".py",
   "mimetype": "text/x-python",
   "name": "python",
   "nbconvert_exporter": "python",
   "pygments_lexer": "ipython3",
   "version": "3.12.4"
  }
 },
 "nbformat": 4,
 "nbformat_minor": 2
}
