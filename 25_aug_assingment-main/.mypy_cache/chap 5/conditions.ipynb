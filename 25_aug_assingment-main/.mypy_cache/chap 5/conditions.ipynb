{
 "cells": [
  {
   "cell_type": "code",
   "execution_count": 2,
   "metadata": {},
   "outputs": [
    {
     "name": "stdout",
     "output_type": "stream",
     "text": [
      "74\n",
      "<class 'int'>\n"
     ]
    }
   ],
   "source": [
    "marks = input('enter your marks:')\n",
    "marks = int(marks)\n",
    "print(marks)\n",
    "print(type(marks))"
   ]
  },
  {
   "cell_type": "code",
   "execution_count": 3,
   "metadata": {},
   "outputs": [
    {
     "name": "stdout",
     "output_type": "stream",
     "text": [
      "34\n",
      "<class 'int'>\n"
     ]
    }
   ],
   "source": [
    "print(marks)\n",
    "print(type(marks)\n",
    "print(marks)\n",
    "print(type(marks))"
   ]
  },
  {
   "cell_type": "code",
   "execution_count": 5,
   "metadata": {},
   "outputs": [
    {
     "name": "stdout",
     "output_type": "stream",
     "text": [
      "you are passed\n",
      "conratulations\n"
     ]
    }
   ],
   "source": [
    "marks = int(input(\"enter you marks:\"))\n",
    "if marks >= 50:\n",
    "    print(\"you are passed\")\n",
    "    print('conratulations')   \n",
    "else:\n",
    "     print(\"you are failed\") "
   ]
  },
  {
   "cell_type": "code",
   "execution_count": 10,
   "metadata": {},
   "outputs": [
    {
     "name": "stdout",
     "output_type": "stream",
     "text": [
      "cold day\n"
     ]
    }
   ],
   "source": [
    "temp= float(input(\"enter you temperature:\"))\n",
    "if temp >= 35:\n",
    "    print(\"hot day\")\n",
    "elif temp >= 20  and temp <= 30 :\n",
    "    print(\"it is a plesent day\")   \n",
    "else:\n",
    "    print(\"cold day\")"
   ]
  },
  {
   "cell_type": "code",
   "execution_count": null,
   "metadata": {},
   "outputs": [],
   "source": []
  }
 ],
 "metadata": {
  "kernelspec": {
   "display_name": "Python 3",
   "language": "python",
   "name": "python3"
  },
  "language_info": {
   "codemirror_mode": {
    "name": "ipython",
    "version": 3
   },
   "file_extension": ".py",
   "mimetype": "text/x-python",
   "name": "python",
   "nbconvert_exporter": "python",
   "pygments_lexer": "ipython3",
   "version": "3.12.4"
  }
 },
 "nbformat": 4,
 "nbformat_minor": 2
}
